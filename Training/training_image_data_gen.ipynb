{
 "cells": [
  {
   "cell_type": "code",
   "execution_count": 1,
   "id": "f2db0718",
   "metadata": {},
   "outputs": [],
   "source": [
    "import tensorflow as tf\n",
    "from tensorflow.keras import layers, models\n",
    "import matplotlib.pyplot as plt\n",
    "from tensorflow.keras.preprocessing.image import ImageDataGenerator"
   ]
  },
  {
   "cell_type": "code",
   "execution_count": 2,
   "id": "54a25254",
   "metadata": {},
   "outputs": [],
   "source": [
    "IMAGE_SIZE=256\n",
    "CHANNELS=3"
   ]
  },
  {
   "cell_type": "code",
   "execution_count": 3,
   "id": "0be099f7",
   "metadata": {},
   "outputs": [
    {
     "name": "stdout",
     "output_type": "stream",
     "text": [
      "Found 1721 images belonging to 3 classes.\n"
     ]
    }
   ],
   "source": [
    "from tensorflow.keras.preprocessing.image import ImageDataGenerator\n",
    "train_datagen=ImageDataGenerator(\n",
    "    rescale=1./255,\n",
    "    rotation_range=10,\n",
    "    horizontal_flip=True,\n",
    ")\n",
    "train_generator=train_datagen.flow_from_directory(\n",
    "    '../output/train',\n",
    "    target_size=(IMAGE_SIZE, IMAGE_SIZE),\n",
    "    batch_size=32,\n",
    "    class_mode='sparse',\n",
    ")"
   ]
  },
  {
   "cell_type": "code",
   "execution_count": 7,
   "id": "f3d7274f",
   "metadata": {},
   "outputs": [
    {
     "data": {
      "text/plain": [
       "{'Potato___Early_blight': 0, 'Potato___Late_blight': 1, 'Potato___healthy': 2}"
      ]
     },
     "execution_count": 7,
     "metadata": {},
     "output_type": "execute_result"
    }
   ],
   "source": [
    "train_generator.class_indices"
   ]
  },
  {
   "cell_type": "code",
   "execution_count": 4,
   "id": "074381b4",
   "metadata": {},
   "outputs": [
    {
     "name": "stdout",
     "output_type": "stream",
     "text": [
      "Found 215 images belonging to 3 classes.\n"
     ]
    }
   ],
   "source": [
    "validation_datagen = ImageDataGenerator(\n",
    "        rescale=1./255,\n",
    "        rotation_range=10,\n",
    "        horizontal_flip=True)\n",
    "validation_generator = validation_datagen.flow_from_directory(\n",
    "        '../output/val',\n",
    "        target_size=(IMAGE_SIZE,IMAGE_SIZE),\n",
    "        batch_size=32,\n",
    "        class_mode=\"sparse\"\n",
    ")"
   ]
  },
  {
   "cell_type": "code",
   "execution_count": 9,
   "id": "a410082d",
   "metadata": {},
   "outputs": [
    {
     "name": "stdout",
     "output_type": "stream",
     "text": [
      "Found 216 images belonging to 3 classes.\n"
     ]
    }
   ],
   "source": [
    "test_datagen = ImageDataGenerator(\n",
    "        rescale=1./255,\n",
    "        rotation_range=10,\n",
    "        horizontal_flip=True)\n",
    "\n",
    "test_generator = test_datagen.flow_from_directory(\n",
    "        '../output/test',\n",
    "        target_size=(IMAGE_SIZE,IMAGE_SIZE),\n",
    "        batch_size=32,\n",
    "        class_mode=\"sparse\"\n",
    ")"
   ]
  },
  {
   "cell_type": "code",
   "execution_count": 5,
   "id": "bf595f76",
   "metadata": {},
   "outputs": [],
   "source": [
    "input_shape = (IMAGE_SIZE, IMAGE_SIZE, CHANNELS)\n",
    "n_classes = 3\n",
    "\n",
    "model = models.Sequential([\n",
    "    layers.InputLayer(input_shape=input_shape),\n",
    "    layers.Conv2D(32, kernel_size = (3,3), activation='relu'),\n",
    "    layers.MaxPooling2D((2, 2)),\n",
    "    layers.Conv2D(64,  kernel_size = (3,3), activation='relu'),\n",
    "    layers.MaxPooling2D((2, 2)),\n",
    "    layers.Conv2D(64,  kernel_size = (3,3), activation='relu'),\n",
    "    layers.MaxPooling2D((2, 2)),\n",
    "    layers.Conv2D(64, (3, 3), activation='relu'),\n",
    "    layers.MaxPooling2D((2, 2)),\n",
    "    layers.Conv2D(64, (3, 3), activation='relu'),\n",
    "    layers.MaxPooling2D((2, 2)),\n",
    "    layers.Conv2D(64, (3, 3), activation='relu'),\n",
    "    layers.MaxPooling2D((2, 2)),\n",
    "    layers.Flatten(),\n",
    "    layers.Dense(64, activation='relu'),\n",
    "    layers.Dense(n_classes, activation='softmax'),\n",
    "])"
   ]
  },
  {
   "cell_type": "code",
   "execution_count": 11,
   "id": "510dd7d0",
   "metadata": {},
   "outputs": [
    {
     "name": "stdout",
     "output_type": "stream",
     "text": [
      "Model: \"sequential\"\n",
      "_________________________________________________________________\n",
      " Layer (type)                Output Shape              Param #   \n",
      "=================================================================\n",
      " conv2d (Conv2D)             (None, 254, 254, 32)      896       \n",
      "                                                                 \n",
      " max_pooling2d (MaxPooling2D  (None, 127, 127, 32)     0         \n",
      " )                                                               \n",
      "                                                                 \n",
      " conv2d_1 (Conv2D)           (None, 125, 125, 64)      18496     \n",
      "                                                                 \n",
      " max_pooling2d_1 (MaxPooling  (None, 62, 62, 64)       0         \n",
      " 2D)                                                             \n",
      "                                                                 \n",
      " conv2d_2 (Conv2D)           (None, 60, 60, 64)        36928     \n",
      "                                                                 \n",
      " max_pooling2d_2 (MaxPooling  (None, 30, 30, 64)       0         \n",
      " 2D)                                                             \n",
      "                                                                 \n",
      " conv2d_3 (Conv2D)           (None, 28, 28, 64)        36928     \n",
      "                                                                 \n",
      " max_pooling2d_3 (MaxPooling  (None, 14, 14, 64)       0         \n",
      " 2D)                                                             \n",
      "                                                                 \n",
      " conv2d_4 (Conv2D)           (None, 12, 12, 64)        36928     \n",
      "                                                                 \n",
      " max_pooling2d_4 (MaxPooling  (None, 6, 6, 64)         0         \n",
      " 2D)                                                             \n",
      "                                                                 \n",
      " conv2d_5 (Conv2D)           (None, 4, 4, 64)          36928     \n",
      "                                                                 \n",
      " max_pooling2d_5 (MaxPooling  (None, 2, 2, 64)         0         \n",
      " 2D)                                                             \n",
      "                                                                 \n",
      " flatten (Flatten)           (None, 256)               0         \n",
      "                                                                 \n",
      " dense (Dense)               (None, 64)                16448     \n",
      "                                                                 \n",
      " dense_1 (Dense)             (None, 3)                 195       \n",
      "                                                                 \n",
      "=================================================================\n",
      "Total params: 183,747\n",
      "_________________________________________________________________\n",
      " Layer (type)                Output Shape              Param #   \n",
      "=================================================================\n",
      " conv2d (Conv2D)             (None, 254, 254, 32)      896       \n",
      "                                                                 \n",
      " max_pooling2d (MaxPooling2D  (None, 127, 127, 32)     0         \n",
      " )                                                               \n",
      "                                                                 \n",
      " conv2d_1 (Conv2D)           (None, 125, 125, 64)      18496     \n",
      "                                                                 \n",
      " max_pooling2d_1 (MaxPooling  (None, 62, 62, 64)       0         \n",
      " 2D)                                                             \n",
      "                                                                 \n",
      " conv2d_2 (Conv2D)           (None, 60, 60, 64)        36928     \n",
      "                                                                 \n",
      " max_pooling2d_2 (MaxPooling  (None, 30, 30, 64)       0         \n",
      " 2D)                                                             \n",
      "                                                                 \n",
      " conv2d_3 (Conv2D)           (None, 28, 28, 64)        36928     \n",
      "                                                                 \n",
      " max_pooling2d_3 (MaxPooling  (None, 14, 14, 64)       0         \n",
      " 2D)                                                             \n",
      "                                                                 \n",
      " conv2d_4 (Conv2D)           (None, 12, 12, 64)        36928     \n",
      "                                                                 \n",
      " max_pooling2d_4 (MaxPooling  (None, 6, 6, 64)         0         \n",
      " 2D)                                                             \n",
      "                                                                 \n",
      " conv2d_5 (Conv2D)           (None, 4, 4, 64)          36928     \n",
      "                                                                 \n",
      " max_pooling2d_5 (MaxPooling  (None, 2, 2, 64)         0         \n",
      " 2D)                                                             \n",
      "                                                                 \n",
      " flatten (Flatten)           (None, 256)               0         \n",
      "                                                                 \n",
      " dense (Dense)               (None, 64)                16448     \n",
      "                                                                 \n",
      " dense_1 (Dense)             (None, 3)                 195       \n",
      "                                                                 \n",
      "=================================================================\n",
      "Total params: 183,747\n",
      "Trainable params: 183,747\n",
      "Non-trainable params: 0\n",
      "_________________________________________________________________\n",
      "Trainable params: 183,747\n",
      "Non-trainable params: 0\n",
      "_________________________________________________________________\n"
     ]
    }
   ],
   "source": [
    "model.summary()"
   ]
  },
  {
   "cell_type": "code",
   "execution_count": 13,
   "id": "984c3b8c",
   "metadata": {},
   "outputs": [
    {
     "data": {
      "text/plain": [
       "53.78125"
      ]
     },
     "execution_count": 13,
     "metadata": {},
     "output_type": "execute_result"
    }
   ],
   "source": [
    "1721/32"
   ]
  },
  {
   "cell_type": "code",
   "execution_count": 6,
   "id": "db59fd11",
   "metadata": {},
   "outputs": [],
   "source": [
    "model.compile(\n",
    "    optimizer='adam',\n",
    "    loss=tf.keras.losses.SparseCategoricalCrossentropy(from_logits=False),\n",
    "    metrics=['accuracy']\n",
    ")\n"
   ]
  },
  {
   "cell_type": "code",
   "execution_count": 7,
   "id": "fd2d6d02",
   "metadata": {},
   "outputs": [
    {
     "name": "stdout",
     "output_type": "stream",
     "text": [
      "Epoch 1/20\n",
      "53/53 [==============================] - 12s 212ms/step - loss: 0.9125 - accuracy: 0.4689 - val_loss: 0.8631 - val_accuracy: 0.6458\n",
      "Epoch 2/20\n",
      "53/53 [==============================] - 12s 212ms/step - loss: 0.9125 - accuracy: 0.4689 - val_loss: 0.8631 - val_accuracy: 0.6458\n",
      "Epoch 2/20\n",
      "53/53 [==============================] - 11s 209ms/step - loss: 0.7568 - accuracy: 0.6477 - val_loss: 0.6302 - val_accuracy: 0.7135\n",
      "Epoch 3/20\n",
      "53/53 [==============================] - 11s 209ms/step - loss: 0.7568 - accuracy: 0.6477 - val_loss: 0.6302 - val_accuracy: 0.7135\n",
      "Epoch 3/20\n",
      "53/53 [==============================] - 11s 208ms/step - loss: 0.4951 - accuracy: 0.8064 - val_loss: 0.3873 - val_accuracy: 0.8646\n",
      "53/53 [==============================] - 11s 208ms/step - loss: 0.4951 - accuracy: 0.8064 - val_loss: 0.3873 - val_accuracy: 0.8646\n",
      "Epoch 4/20\n",
      "Epoch 4/20\n",
      "53/53 [==============================] - 11s 206ms/step - loss: 0.4071 - accuracy: 0.8366 - val_loss: 0.4143 - val_accuracy: 0.8646\n",
      "Epoch 5/20\n",
      "53/53 [==============================] - 11s 206ms/step - loss: 0.4071 - accuracy: 0.8366 - val_loss: 0.4143 - val_accuracy: 0.8646\n",
      "Epoch 5/20\n",
      "53/53 [==============================] - 11s 207ms/step - loss: 0.2735 - accuracy: 0.8828 - val_loss: 0.2189 - val_accuracy: 0.9375\n",
      "Epoch 6/20\n",
      "53/53 [==============================] - 11s 207ms/step - loss: 0.2735 - accuracy: 0.8828 - val_loss: 0.2189 - val_accuracy: 0.9375\n",
      "Epoch 6/20\n",
      "53/53 [==============================] - 11s 208ms/step - loss: 0.2850 - accuracy: 0.8922 - val_loss: 0.2952 - val_accuracy: 0.8854\n",
      "Epoch 7/20\n",
      "53/53 [==============================] - 11s 208ms/step - loss: 0.2850 - accuracy: 0.8922 - val_loss: 0.2952 - val_accuracy: 0.8854\n",
      "Epoch 7/20\n",
      "53/53 [==============================] - 11s 205ms/step - loss: 0.1571 - accuracy: 0.9420 - val_loss: 0.1756 - val_accuracy: 0.9375\n",
      "Epoch 8/20\n",
      "53/53 [==============================] - 11s 205ms/step - loss: 0.1571 - accuracy: 0.9420 - val_loss: 0.1756 - val_accuracy: 0.9375\n",
      "Epoch 8/20\n",
      "53/53 [==============================] - 11s 206ms/step - loss: 0.1294 - accuracy: 0.9550 - val_loss: 0.1915 - val_accuracy: 0.9115\n",
      "Epoch 9/20\n",
      "53/53 [==============================] - 11s 206ms/step - loss: 0.1294 - accuracy: 0.9550 - val_loss: 0.1915 - val_accuracy: 0.9115\n",
      "Epoch 9/20\n",
      "53/53 [==============================] - 11s 206ms/step - loss: 0.1501 - accuracy: 0.9426 - val_loss: 0.1464 - val_accuracy: 0.9375\n",
      "Epoch 10/20\n",
      "53/53 [==============================] - 11s 206ms/step - loss: 0.1501 - accuracy: 0.9426 - val_loss: 0.1464 - val_accuracy: 0.9375\n",
      "Epoch 10/20\n",
      "53/53 [==============================] - 11s 209ms/step - loss: 0.1195 - accuracy: 0.9556 - val_loss: 0.1504 - val_accuracy: 0.9219\n",
      "Epoch 11/20\n",
      "53/53 [==============================] - 11s 209ms/step - loss: 0.1195 - accuracy: 0.9556 - val_loss: 0.1504 - val_accuracy: 0.9219\n",
      "Epoch 11/20\n",
      "53/53 [==============================] - 11s 210ms/step - loss: 0.0817 - accuracy: 0.9680 - val_loss: 0.1747 - val_accuracy: 0.9323\n",
      "Epoch 12/20\n",
      "53/53 [==============================] - 11s 210ms/step - loss: 0.0817 - accuracy: 0.9680 - val_loss: 0.1747 - val_accuracy: 0.9323\n",
      "Epoch 12/20\n",
      "53/53 [==============================] - 11s 211ms/step - loss: 0.0850 - accuracy: 0.9686 - val_loss: 0.3307 - val_accuracy: 0.9219\n",
      "Epoch 13/20\n",
      "53/53 [==============================] - 11s 211ms/step - loss: 0.0850 - accuracy: 0.9686 - val_loss: 0.3307 - val_accuracy: 0.9219\n",
      "Epoch 13/20\n",
      "53/53 [==============================] - 12s 216ms/step - loss: 0.1113 - accuracy: 0.9609 - val_loss: 0.2027 - val_accuracy: 0.9323\n",
      "Epoch 14/20\n",
      "53/53 [==============================] - 12s 216ms/step - loss: 0.1113 - accuracy: 0.9609 - val_loss: 0.2027 - val_accuracy: 0.9323\n",
      "Epoch 14/20\n",
      "53/53 [==============================] - 11s 210ms/step - loss: 0.1181 - accuracy: 0.9544 - val_loss: 0.2251 - val_accuracy: 0.9167\n",
      "Epoch 15/20\n",
      "53/53 [==============================] - 11s 210ms/step - loss: 0.1181 - accuracy: 0.9544 - val_loss: 0.2251 - val_accuracy: 0.9167\n",
      "Epoch 15/20\n",
      "53/53 [==============================] - 11s 215ms/step - loss: 0.0654 - accuracy: 0.9787 - val_loss: 0.1102 - val_accuracy: 0.9635\n",
      "Epoch 16/20\n",
      "53/53 [==============================] - 11s 215ms/step - loss: 0.0654 - accuracy: 0.9787 - val_loss: 0.1102 - val_accuracy: 0.9635\n",
      "Epoch 16/20\n",
      "53/53 [==============================] - 11s 213ms/step - loss: 0.1037 - accuracy: 0.9591 - val_loss: 0.0884 - val_accuracy: 0.9688\n",
      "Epoch 17/20\n",
      "53/53 [==============================] - 11s 213ms/step - loss: 0.1037 - accuracy: 0.9591 - val_loss: 0.0884 - val_accuracy: 0.9688\n",
      "Epoch 17/20\n",
      "53/53 [==============================] - 11s 213ms/step - loss: 0.0783 - accuracy: 0.9722 - val_loss: 0.1164 - val_accuracy: 0.9635\n",
      "Epoch 18/20\n",
      "53/53 [==============================] - 11s 213ms/step - loss: 0.0783 - accuracy: 0.9722 - val_loss: 0.1164 - val_accuracy: 0.9635\n",
      "Epoch 18/20\n",
      "53/53 [==============================] - 11s 214ms/step - loss: 0.0670 - accuracy: 0.9757 - val_loss: 0.1484 - val_accuracy: 0.9479\n",
      "Epoch 19/20\n",
      "53/53 [==============================] - 11s 214ms/step - loss: 0.0670 - accuracy: 0.9757 - val_loss: 0.1484 - val_accuracy: 0.9479\n",
      "Epoch 19/20\n",
      "53/53 [==============================] - 12s 216ms/step - loss: 0.0502 - accuracy: 0.9816 - val_loss: 0.0589 - val_accuracy: 0.9740\n",
      "Epoch 20/20\n",
      "53/53 [==============================] - 12s 216ms/step - loss: 0.0502 - accuracy: 0.9816 - val_loss: 0.0589 - val_accuracy: 0.9740\n",
      "Epoch 20/20\n",
      "53/53 [==============================] - 12s 216ms/step - loss: 0.0390 - accuracy: 0.9834 - val_loss: 0.1425 - val_accuracy: 0.9635\n",
      "53/53 [==============================] - 12s 216ms/step - loss: 0.0390 - accuracy: 0.9834 - val_loss: 0.1425 - val_accuracy: 0.9635\n"
     ]
    }
   ],
   "source": [
    "history=model.fit(\n",
    "    train_generator,\n",
    "    steps_per_epoch=53,\n",
    "    batch_size=32,\n",
    "    validation_data=validation_generator,\n",
    "    validation_steps=6,\n",
    "    verbose=1,\n",
    "    epochs=20,\n",
    ")"
   ]
  },
  {
   "cell_type": "code",
   "execution_count": 10,
   "id": "b2cb3090",
   "metadata": {},
   "outputs": [
    {
     "name": "stdout",
     "output_type": "stream",
     "text": [
      "7/7 [==============================] - 1s 149ms/step - loss: 0.0902 - accuracy: 0.9722\n",
      "7/7 [==============================] - 1s 149ms/step - loss: 0.0902 - accuracy: 0.9722\n"
     ]
    }
   ],
   "source": [
    "scores = model.evaluate(test_generator)"
   ]
  },
  {
   "cell_type": "code",
   "execution_count": 11,
   "id": "1956a238",
   "metadata": {},
   "outputs": [
    {
     "data": {
      "text/plain": [
       "{'verbose': 1, 'epochs': 20, 'steps': 53}"
      ]
     },
     "execution_count": 11,
     "metadata": {},
     "output_type": "execute_result"
    }
   ],
   "source": [
    "history.params"
   ]
  },
  {
   "cell_type": "code",
   "execution_count": 12,
   "id": "6a472c95",
   "metadata": {},
   "outputs": [
    {
     "data": {
      "text/plain": [
       "20"
      ]
     },
     "execution_count": 12,
     "metadata": {},
     "output_type": "execute_result"
    }
   ],
   "source": [
    "len(history.history['loss'])"
   ]
  },
  {
   "cell_type": "code",
   "execution_count": null,
   "id": "4e08aee4",
   "metadata": {},
   "outputs": [],
   "source": [
    "acc = history.history['accuracy']\n",
    "val_acc = history.history['val_accuracy']\n",
    "\n",
    "loss = history.history['loss']\n",
    "val_loss = history.history['val_loss']"
   ]
  }
 ],
 "metadata": {
  "kernelspec": {
   "display_name": "Python 3",
   "language": "python",
   "name": "python3"
  },
  "language_info": {
   "codemirror_mode": {
    "name": "ipython",
    "version": 3
   },
   "file_extension": ".py",
   "mimetype": "text/x-python",
   "name": "python",
   "nbconvert_exporter": "python",
   "pygments_lexer": "ipython3",
   "version": "3.10.11"
  }
 },
 "nbformat": 4,
 "nbformat_minor": 5
}
